{
 "cells": [
  {
   "cell_type": "markdown",
   "metadata": {},
   "source": [
    "[![Open in Colab](https://colab.research.google.com/assets/colab-badge.svg)](https://colab.research.google.com/github/jesherjoshua/dsc-ml-workshop/blob/mothership/digits-classification.ipynb)\n"
   ]
  },
  {
   "cell_type": "markdown",
   "metadata": {},
   "source": [
    "# **Digits Classification** 🔢\n"
   ]
  },
  {
   "cell_type": "markdown",
   "metadata": {},
   "source": [
    "# Imports\n"
   ]
  },
  {
   "cell_type": "code",
   "execution_count": 2,
   "metadata": {},
   "outputs": [],
   "source": [
    "import numpy as np\n",
    "import pickle\n",
    "import pandas as pd\n",
    "import sklearn as skl\n",
    "import seaborn as sns\n",
    "from sklearn import datasets\n",
    "import matplotlib.pyplot as plt\n",
    "from sklearn.model_selection import train_test_split\n",
    "from sklearn.linear_model import LinearRegression, LogisticRegression\n",
    "from sklearn.preprocessing import LabelEncoder, OrdinalEncoder\n",
    "from sklearn.preprocessing import MinMaxScaler\n",
    "from sklearn.metrics import mean_absolute_error, mean_squared_error\n"
   ]
  },
  {
   "cell_type": "markdown",
   "metadata": {},
   "source": [
    "# STEP-1: Load Data ⬇️\n"
   ]
  },
  {
   "cell_type": "code",
   "execution_count": null,
   "metadata": {},
   "outputs": [],
   "source": [
    "#!git clone https://github.com/jesherjoshua/dsc-datasets.git"
   ]
  },
  {
   "cell_type": "code",
   "execution_count": 4,
   "metadata": {},
   "outputs": [],
   "source": [
    "df = datasets.load_digits()"
   ]
  },
  {
   "cell_type": "code",
   "execution_count": 6,
   "metadata": {},
   "outputs": [
    {
     "data": {
      "text/plain": [
       "['DESCR', 'data', 'feature_names', 'frame', 'images', 'target', 'target_names']"
      ]
     },
     "execution_count": 6,
     "metadata": {},
     "output_type": "execute_result"
    }
   ],
   "source": [
    "dir(df)"
   ]
  },
  {
   "cell_type": "code",
   "execution_count": 5,
   "metadata": {},
   "outputs": [
    {
     "data": {
      "text/plain": [
       "sklearn.utils._bunch.Bunch"
      ]
     },
     "execution_count": 5,
     "metadata": {},
     "output_type": "execute_result"
    }
   ],
   "source": [
    "type(df)\n"
   ]
  },
  {
   "cell_type": "code",
   "execution_count": 11,
   "metadata": {},
   "outputs": [
    {
     "ename": "AttributeError",
     "evalue": "head",
     "output_type": "error",
     "traceback": [
      "\u001b[0;31m---------------------------------------------------------------------------\u001b[0m",
      "\u001b[0;31mKeyError\u001b[0m                                  Traceback (most recent call last)",
      "\u001b[0;32m~/Library/Python/3.8/lib/python/site-packages/sklearn/utils/_bunch.py\u001b[0m in \u001b[0;36m__getattr__\u001b[0;34m(self, key)\u001b[0m\n\u001b[1;32m     34\u001b[0m         \u001b[0;32mtry\u001b[0m\u001b[0;34m:\u001b[0m\u001b[0;34m\u001b[0m\u001b[0;34m\u001b[0m\u001b[0m\n\u001b[0;32m---> 35\u001b[0;31m             \u001b[0;32mreturn\u001b[0m \u001b[0mself\u001b[0m\u001b[0;34m[\u001b[0m\u001b[0mkey\u001b[0m\u001b[0;34m]\u001b[0m\u001b[0;34m\u001b[0m\u001b[0;34m\u001b[0m\u001b[0m\n\u001b[0m\u001b[1;32m     36\u001b[0m         \u001b[0;32mexcept\u001b[0m \u001b[0mKeyError\u001b[0m\u001b[0;34m:\u001b[0m\u001b[0;34m\u001b[0m\u001b[0;34m\u001b[0m\u001b[0m\n",
      "\u001b[0;31mKeyError\u001b[0m: 'head'",
      "\nDuring handling of the above exception, another exception occurred:\n",
      "\u001b[0;31mAttributeError\u001b[0m                            Traceback (most recent call last)",
      "\u001b[0;32m/var/folders/lr/tv_mh2r13bb7xs3k5qmj606m0000gn/T/ipykernel_9043/964094849.py\u001b[0m in \u001b[0;36m<module>\u001b[0;34m\u001b[0m\n\u001b[0;32m----> 1\u001b[0;31m \u001b[0mdf\u001b[0m\u001b[0;34m.\u001b[0m\u001b[0mhead\u001b[0m\u001b[0;34m(\u001b[0m\u001b[0;34m)\u001b[0m\u001b[0;34m\u001b[0m\u001b[0;34m\u001b[0m\u001b[0m\n\u001b[0m",
      "\u001b[0;32m~/Library/Python/3.8/lib/python/site-packages/sklearn/utils/_bunch.py\u001b[0m in \u001b[0;36m__getattr__\u001b[0;34m(self, key)\u001b[0m\n\u001b[1;32m     35\u001b[0m             \u001b[0;32mreturn\u001b[0m \u001b[0mself\u001b[0m\u001b[0;34m[\u001b[0m\u001b[0mkey\u001b[0m\u001b[0;34m]\u001b[0m\u001b[0;34m\u001b[0m\u001b[0;34m\u001b[0m\u001b[0m\n\u001b[1;32m     36\u001b[0m         \u001b[0;32mexcept\u001b[0m \u001b[0mKeyError\u001b[0m\u001b[0;34m:\u001b[0m\u001b[0;34m\u001b[0m\u001b[0;34m\u001b[0m\u001b[0m\n\u001b[0;32m---> 37\u001b[0;31m             \u001b[0;32mraise\u001b[0m \u001b[0mAttributeError\u001b[0m\u001b[0;34m(\u001b[0m\u001b[0mkey\u001b[0m\u001b[0;34m)\u001b[0m\u001b[0;34m\u001b[0m\u001b[0;34m\u001b[0m\u001b[0m\n\u001b[0m\u001b[1;32m     38\u001b[0m \u001b[0;34m\u001b[0m\u001b[0m\n\u001b[1;32m     39\u001b[0m     \u001b[0;32mdef\u001b[0m \u001b[0m__setstate__\u001b[0m\u001b[0;34m(\u001b[0m\u001b[0mself\u001b[0m\u001b[0;34m,\u001b[0m \u001b[0mstate\u001b[0m\u001b[0;34m)\u001b[0m\u001b[0;34m:\u001b[0m\u001b[0;34m\u001b[0m\u001b[0;34m\u001b[0m\u001b[0m\n",
      "\u001b[0;31mAttributeError\u001b[0m: head"
     ]
    }
   ],
   "source": [
    "df.head()"
   ]
  },
  {
   "cell_type": "markdown",
   "metadata": {},
   "source": [
    "# STEP-2: Clean and Explore 🧹\n"
   ]
  },
  {
   "cell_type": "code",
   "execution_count": 16,
   "metadata": {},
   "outputs": [
    {
     "data": {
      "image/png": "[encoded data removed]",
      "text/plain": [
       "<Figure size 720x720 with 16 Axes>"
      ]
     },
     "metadata": {
      "needs_background": "light"
     },
     "output_type": "display_data"
    }
   ],
   "source": [
    "fig,ax=plt.subplots(figsize=(10,10))\n",
    "for i in range(16):\n",
    "    plt.subplot(4,4,i+1)\n",
    "    n=np.random.randint(1,1797)\n",
    "    plt.imshow(df.images[n])\n",
    "    plt.title(df.target[n])\n",
    "    "
   ]
  },
  {
   "cell_type": "markdown",
   "metadata": {},
   "source": [
    "# STEP-3: Encode and Transform\n"
   ]
  },
  {
   "cell_type": "code",
   "execution_count": 17,
   "metadata": {},
   "outputs": [],
   "source": [
    "x_train, x_test, y_train, y_test = train_test_split(df.data,df.target, test_size=0.3\n",
    ")\n"
   ]
  },
  {
   "cell_type": "markdown",
   "metadata": {},
   "source": [
    "# STEP-4: Train 🏋️‍♂️\n"
   ]
  },
  {
   "cell_type": "code",
   "execution_count": 18,
   "metadata": {},
   "outputs": [
    {
     "name": "stderr",
     "output_type": "stream",
     "text": [
      "/Users/jesherjoshua/Library/Python/3.8/lib/python/site-packages/sklearn/linear_model/_logistic.py:444: ConvergenceWarning: lbfgs failed to converge (status=1):\n",
      "STOP: TOTAL NO. of ITERATIONS REACHED LIMIT.\n",
      "\n",
      "Increase the number of iterations (max_iter) or scale the data as shown in:\n",
      "    https://scikit-learn.org/stable/modules/preprocessing.html\n",
      "Please also refer to the documentation for alternative solver options:\n",
      "    https://scikit-learn.org/stable/modules/linear_model.html#logistic-regression\n",
      "  n_iter_i = _check_optimize_result(\n"
     ]
    },
    {
     "data": {
      "text/plain": [
       "array([7, 1, 0, 1, 1, 1, 3, 3, 6, 8, 8, 6, 5, 7, 1, 0, 9, 3, 8, 1, 1, 3,\n",
       "       3, 3, 7, 8, 0, 5, 0, 0, 6, 7, 7, 6, 9, 7, 2, 5, 6, 8, 5, 0, 7, 0,\n",
       "       0, 6, 2, 8, 5, 3, 5, 3, 1, 6, 9, 0, 5, 4, 1, 5, 7, 3, 7, 1, 6, 5,\n",
       "       0, 7, 6, 4, 8, 4, 4, 4, 5, 0, 9, 9, 7, 9, 2, 3, 4, 7, 9, 0, 0, 8,\n",
       "       3, 1, 6, 1, 4, 8, 3, 3, 8, 1, 0, 7, 7, 6, 5, 6, 1, 3, 9, 7, 7, 4,\n",
       "       2, 1, 0, 3, 4, 3, 5, 7, 1, 8, 1, 5, 8, 1, 6, 4, 5, 2, 5, 1, 1, 3,\n",
       "       5, 5, 1, 1, 3, 3, 2, 6, 6, 0, 2, 2, 2, 8, 2, 3, 6, 1, 0, 0, 4, 3,\n",
       "       2, 7, 6, 6, 6, 3, 4, 4, 6, 0, 8, 9, 7, 7, 1, 2, 2, 0, 4, 3, 0, 9,\n",
       "       3, 3, 7, 3, 6, 8, 5, 6, 2, 3, 4, 4, 7, 5, 7, 6, 3, 5, 3, 4, 7, 8,\n",
       "       6, 3, 3, 3, 3, 5, 7, 6, 4, 5, 1, 7, 7, 5, 3, 2, 2, 9, 5, 1, 1, 1,\n",
       "       1, 0, 2, 1, 2, 1, 2, 9, 9, 1, 6, 0, 0, 1, 2, 0, 3, 8, 9, 2, 5, 6,\n",
       "       2, 6, 9, 1, 3, 2, 4, 2, 3, 3, 5, 3, 6, 8, 6, 8, 8, 7, 7, 6, 1, 2,\n",
       "       1, 5, 4, 4, 9, 6, 2, 3, 8, 6, 1, 6, 6, 4, 2, 8, 6, 4, 7, 9, 2, 3,\n",
       "       1, 5, 0, 5, 0, 3, 1, 9, 1, 7, 8, 0, 8, 0, 3, 4, 0, 1, 5, 6, 0, 9,\n",
       "       7, 8, 0, 8, 6, 5, 8, 1, 6, 0, 3, 1, 7, 5, 0, 9, 6, 4, 6, 0, 9, 8,\n",
       "       8, 5, 0, 8, 4, 5, 6, 7, 8, 9, 3, 8, 0, 8, 9, 4, 2, 6, 7, 3, 9, 2,\n",
       "       8, 2, 2, 9, 4, 9, 6, 3, 1, 9, 1, 9, 1, 1, 3, 1, 8, 2, 9, 6, 0, 6,\n",
       "       2, 5, 8, 5, 0, 3, 9, 6, 7, 6, 6, 5, 1, 4, 9, 3, 9, 5, 7, 0, 3, 8,\n",
       "       9, 2, 4, 4, 7, 3, 2, 6, 6, 9, 4, 8, 2, 6, 2, 8, 9, 8, 0, 3, 3, 5,\n",
       "       0, 0, 4, 9, 2, 5, 6, 6, 0, 6, 8, 7, 0, 2, 3, 8, 9, 0, 4, 2, 8, 1,\n",
       "       6, 3, 8, 0, 8, 5, 2, 7, 9, 2, 5, 1, 7, 9, 5, 2, 6, 3, 0, 5, 3, 9,\n",
       "       5, 9, 3, 5, 1, 8, 9, 2, 7, 8, 7, 1, 5, 3, 9, 4, 3, 2, 7, 7, 9, 7,\n",
       "       1, 8, 9, 6, 1, 1, 1, 6, 3, 5, 9, 3, 6, 4, 4, 8, 9, 7, 7, 2, 2, 8,\n",
       "       3, 5, 4, 8, 2, 7, 2, 1, 6, 1, 1, 7, 2, 6, 4, 4, 1, 1, 0, 7, 6, 9,\n",
       "       8, 4, 7, 6, 7, 9, 7, 0, 1, 8, 1, 8])"
      ]
     },
     "execution_count": 18,
     "metadata": {},
     "output_type": "execute_result"
    }
   ],
   "source": [
    "lr = LogisticRegression()\n",
    "lr.fit(x_train, y_train)\n",
    "lr.predict(x_test)\n"
   ]
  },
  {
   "cell_type": "markdown",
   "metadata": {},
   "source": [
    "# STEP-5: Evaluate 🕵️‍♂️\n"
   ]
  },
  {
   "cell_type": "code",
   "execution_count": 21,
   "metadata": {},
   "outputs": [
    {
     "name": "stdout",
     "output_type": "stream",
     "text": [
      "Accuracy:  0.9703703703703703\n",
      "              precision    recall  f1-score   support\n",
      "\n",
      "           0       1.00      1.00      1.00        50\n",
      "           1       0.92      0.97      0.94        61\n",
      "           2       1.00      1.00      1.00        51\n",
      "           3       0.98      0.97      0.98        65\n",
      "           4       1.00      0.93      0.96        44\n",
      "           5       1.00      0.98      0.99        50\n",
      "           6       0.98      0.98      0.98        64\n",
      "           7       0.98      0.98      0.98        54\n",
      "           8       0.89      0.92      0.91        52\n",
      "           9       0.96      0.96      0.96        49\n",
      "\n",
      "    accuracy                           0.97       540\n",
      "   macro avg       0.97      0.97      0.97       540\n",
      "weighted avg       0.97      0.97      0.97       540\n",
      "\n"
     ]
    }
   ],
   "source": [
    "print(\"Accuracy: \", lr.score(x_test, y_test))\n",
    "print(skl.metrics.classification_report(y_test,lr.predict(x_test)))\n",
    "\n"
   ]
  },
  {
   "cell_type": "code",
   "execution_count": 23,
   "metadata": {},
   "outputs": [
    {
     "data": {
      "text/plain": [
       "Text(0.5, 0.98, 'Confusion Matrix')"
      ]
     },
     "execution_count": 23,
     "metadata": {},
     "output_type": "execute_result"
    },
    {
     "data": {
      "image/png": "[encoded data removed]",
      "text/plain": [
       "<Figure size 432x288 with 2 Axes>"
      ]
     },
     "metadata": {
      "needs_background": "light"
     },
     "output_type": "display_data"
    }
   ],
   "source": [
    "disp = skl.metrics.ConfusionMatrixDisplay.from_predictions(y_test, lr.predict(x_test))\n",
    "disp.figure_.suptitle(\"Confusion Matrix\")\n",
    "#print(f\"Confusion matrix:\\n{disp.confusion_matrix}\")"
   ]
  },
  {
   "cell_type": "markdown",
   "metadata": {},
   "source": [
    "# STEP-6: Deploy 🚀\n"
   ]
  },
  {
   "cell_type": "code",
   "execution_count": 97,
   "metadata": {},
   "outputs": [],
   "source": [
    "pickle.dump(lr, open(\"logisticreg_classification.pkl\", \"wb\"))\n"
   ]
  },
  {
   "cell_type": "code",
   "execution_count": 98,
   "metadata": {},
   "outputs": [],
   "source": [
    "model = pickle.load(open(\"logisticreg_classification.pkl\", \"rb\"))\n"
   ]
  },
  {
   "cell_type": "code",
   "execution_count": 100,
   "metadata": {},
   "outputs": [
    {
     "data": {
      "text/plain": [
       "0.9582809440144029"
      ]
     },
     "execution_count": 100,
     "metadata": {},
     "output_type": "execute_result"
    }
   ],
   "source": [
    "model.score(x_test, y_test)\n"
   ]
  },
  {
   "cell_type": "markdown",
   "metadata": {},
   "source": [
    "_proceed to deploy.py..._\n"
   ]
  }
 ],
 "metadata": {
  "kernelspec": {
   "display_name": "Python 3.8.9 64-bit",
   "language": "python",
   "name": "python3"
  },
  "language_info": {
   "codemirror_mode": {
    "name": "ipython",
    "version": 3
   },
   "file_extension": ".py",
   "mimetype": "text/x-python",
   "name": "python",
   "nbconvert_exporter": "python",
   "pygments_lexer": "ipython3",
   "version": "3.8.9"
  },
  "orig_nbformat": 4,
  "vscode": {
   "interpreter": {
    "hash": "31f2aee4e71d21fbe5cf8b01ff0e069b9275f58929596ceb00d14d90e3e16cd6"
   }
  }
 },
 "nbformat": 4,
 "nbformat_minor": 2
}
